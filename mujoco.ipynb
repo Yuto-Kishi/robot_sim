{
 "cells": [
  {
   "cell_type": "code",
   "execution_count": 7,
   "id": "a2c468e1-0d25-45a1-8c6d-3136840b8445",
   "metadata": {},
   "outputs": [
    {
     "ename": "ValueError",
     "evalue": "ParseXML: Error opening file '/Users/your_username/Downloads/XROBOCON_model.xml': No such file or directory",
     "output_type": "error",
     "traceback": [
      "\u001b[31m---------------------------------------------------------------------------\u001b[39m",
      "\u001b[31mValueError\u001b[39m                                Traceback (most recent call last)",
      "\u001b[36mCell\u001b[39m\u001b[36m \u001b[39m\u001b[32mIn[7]\u001b[39m\u001b[32m, line 4\u001b[39m\n\u001b[32m      1\u001b[39m \u001b[38;5;28;01mimport\u001b[39;00m\u001b[38;5;250m \u001b[39m\u001b[34;01mmujoco\u001b[39;00m\n\u001b[32m      2\u001b[39m \u001b[38;5;28;01mfrom\u001b[39;00m\u001b[38;5;250m \u001b[39m\u001b[34;01mmujoco\u001b[39;00m\u001b[38;5;250m \u001b[39m\u001b[38;5;28;01mimport\u001b[39;00m viewer\n\u001b[32m----> \u001b[39m\u001b[32m4\u001b[39m model = \u001b[43mmujoco\u001b[49m\u001b[43m.\u001b[49m\u001b[43mMjModel\u001b[49m\u001b[43m.\u001b[49m\u001b[43mfrom_xml_path\u001b[49m\u001b[43m(\u001b[49m\u001b[33;43m\"\u001b[39;49m\u001b[33;43m/Users/your_username/Downloads/XROBOCON_model.xml\u001b[39;49m\u001b[33;43m\"\u001b[39;49m\u001b[43m)\u001b[49m  \u001b[38;5;66;03m# ここを実際の絶対パスに置き換え\u001b[39;00m\n\u001b[32m      5\u001b[39m data = mujoco.MjData(model)\n\u001b[32m      6\u001b[39m viewer.launch(model, data)\n",
      "\u001b[31mValueError\u001b[39m: ParseXML: Error opening file '/Users/your_username/Downloads/XROBOCON_model.xml': No such file or directory"
     ]
    }
   ],
   "source": [
    "import mujoco\n",
    "from mujoco import viewer\n",
    "\n",
    "model = mujoco.MjModel.from_xml_path(\"/Users/your_username/Downloads/XROBOCON_model.xml\")  # ここを実際の絶対パスに置き換え\n",
    "data = mujoco.MjData(model)\n",
    "viewer.launch(model, data)\n"
   ]
  },
  {
   "cell_type": "code",
   "execution_count": 8,
   "id": "4510ad4c-d08f-407c-8fec-19ee81f3ffe1",
   "metadata": {},
   "outputs": [
    {
     "name": "stdout",
     "output_type": "stream",
     "text": [
      "/Users/yutokishi\n"
     ]
    }
   ],
   "source": [
    "!pwd"
   ]
  },
  {
   "cell_type": "code",
   "execution_count": null,
   "id": "3a1dc24f-0937-4811-aaa3-5e4b2555c330",
   "metadata": {},
   "outputs": [],
   "source": []
  }
 ],
 "metadata": {
  "kernelspec": {
   "display_name": "Python 3 (ipykernel)",
   "language": "python",
   "name": "python3"
  },
  "language_info": {
   "codemirror_mode": {
    "name": "ipython",
    "version": 3
   },
   "file_extension": ".py",
   "mimetype": "text/x-python",
   "name": "python",
   "nbconvert_exporter": "python",
   "pygments_lexer": "ipython3",
   "version": "3.12.7"
  }
 },
 "nbformat": 4,
 "nbformat_minor": 5
}
